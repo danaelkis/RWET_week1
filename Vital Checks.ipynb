{
 "cells": [
  {
   "cell_type": "markdown",
   "metadata": {},
   "source": [
    "My thesis undergrad project IF THIS THEN THAT had a digital interface displays \n",
    "an empty line and a blinking cursor calls the user to type a word or phrase after the “IF” \n",
    "and receive a word or sentence after the \"THEN\". The simple “If ____ then ____\"\n",
    "phrase creates a sense of liberation, created specially to illustrate \n",
    "my goal was to redefine my creative boundaries, relying on chance and especially “non-sense” \n",
    "information that i could use in order to create new things. one day i wrote vital and my machine wrote me back checks, and i knew exactly what i need to do.\n",
    "\n",
    "Vital checks was a small yellow poem book. \n",
    "In order to create me poems, i sneaked into bar/pub/venues-stages around Tel Aviv 3 hours before the show would starts and recorded on my phone the words that the sound man's were saying during the sound check. I didn’t knew code back then and i ended up transcribing what i recorded into strings of text, later when designing each page, i also gave each group of words a composition/structure, some were spread out on the page, some were a line after the other, some tried to create a shape. \n",
    "\n",
    "I loved that book, it was so simple and for a long time i wanted to write a simple code that will create for me those endless combination of sound checks, beside the fact the i like to read them out loud. i like the fact that it is one of these really specific mundane word combination that sound perfectly o.k when on stage. when holding a mic. when reading them in a book, when just saying them together."
   ]
  },
  {
   "cell_type": "code",
   "execution_count": null,
   "metadata": {},
   "outputs": [],
   "source": [
    "import random"
   ]
  },
  {
   "cell_type": "code",
   "execution_count": 244,
   "metadata": {},
   "outputs": [],
   "source": [
    "checks = [\n",
    "    'one',\n",
    "    'two',\n",
    "    'aye',\n",
    "    'hey',\n",
    "    'run',\n",
    "    'test',\n",
    "    'run',\n",
    "    'low',\n",
    "    'try',\n",
    "    'eco',  \n",
    "    ]"
   ]
  },
  {
   "cell_type": "markdown",
   "metadata": {},
   "source": [
    "I created 2 group of sound checks vocabulary to create more repetition, i didn’t know how to create repetition \n",
    "in my string or how to call for selected word to repeat themselves.\n",
    "At some point i thought that checks.pop(1) might help me to bring some surprises every time that i am writing but then i realize that it is less about the surprise and more about the fact that it will always work"
   ]
  },
  {
   "cell_type": "code",
   "execution_count": 245,
   "metadata": {},
   "outputs": [],
   "source": [
    "checks2 = [\n",
    "    'one',\n",
    "    'two',\n",
    "    'aye',\n",
    "    'hey',\n",
    "    'run',\n",
    "    'test',\n",
    "    'run',\n",
    "    'low',\n",
    "    'try',\n",
    "    'eco',  \n",
    "    'i',\n",
    "    'tzz',\n",
    "    'knock',\n",
    "    'bounce',\n",
    "    'b b'\n",
    "    ]"
   ]
  },
  {
   "cell_type": "markdown",
   "metadata": {},
   "source": [
    "Changes that i made:\n",
    "To be honest, i'm really trying to understand the logic of how python works, i really enjoyed the excerises because i felt that by doing it step by step and in a small scale i can understand better. the jump to this section was a little more hard for me so the changes that i made were feeling very carful. i had a lot of ideas that i could understand how to emplement: \n",
    "\n",
    "things that i wanted to do but couldnt under how:\n",
    "* after every 4 words > go down one line\n",
    "* if there is a certain word next to the other, repeat them 4 times\n",
    "\n",
    "things that i changed or added:\n",
    "* i chose the word that i want to start with from a list\n",
    "* I used the Love Letter Generator, i loved the fact that i could create block of texts, continues reading and also add some spaced between the words.\n",
    "* Added the body.upper because i wanted to give some part of the vital checks an emphesis on the way one would hopefuly read it. \n",
    "* Changing the Word spacing so there will be some \"quite\" times between the words and also intense moments in other parts of the reading.\n",
    "* I really liked the fact that i can create a repetitive structure every time that you create this \"Act\" you have to declare it start and it's end. i choose to do it by adding \"this is a sound check\" and ending with \"this was a sound check\" as if people might not know what it is all about.\n",
    "\n"
   ]
  },
  {
   "cell_type": "code",
   "execution_count": 384,
   "metadata": {},
   "outputs": [
    {
     "name": "stdout",
     "output_type": "stream",
     "text": [
      "TEST,\n",
      "this is a Sound Check,\n",
      "run    try knock   low aye            tzz   test    eco\n",
      "bounce   hey run            one   low    test hey   two low\n",
      "b b   eco    run tzz   aye aye            run   eco    one\n",
      "tzz   two b b            i   RUN    TRY KNOCK   LOW AYE\n",
      "TZZ   TEST    ECO BOUNCE   HEY RUN            ONE   LOW\n",
      "TEST HEY   TWO LOW            B B   ECO    RUN TZZ   AYE AYE\n",
      "RUN   ECO    ONE TZZ   TWO B B            I,\n",
      "This was a Sound Check\n",
      "\n"
     ]
    }
   ],
   "source": [
    "output = checks[5].upper() + \",\\n\" + \"this is a Sound Check\"+ \",\\n\" \n",
    "\n",
    "history = []\n",
    "body = \"\"\n",
    "for i in range(10):\n",
    "    kind = random.choice([\"short\", \"long\"])\n",
    "    if kind == \"long\":\n",
    "        # adjectives and adverbs will be present only 50% of the time\n",
    "        line = \" \".join([\n",
    "            random.choice([random.choice(checks)])+ \"      \",\n",
    "            random.choice(checks),\n",
    "            random.choice([random.choice(checks2)])+ \"     \",\n",
    "            random.choice(checks),\n",
    "            random.choice([random.choice(checks2)])+ \"                       \",\n",
    "            random.choice(checks2)])+ \"   \\n\" \n",
    "        body += line\n",
    "    else:\n",
    "        adj_noun = random.choice(checks) + \" \" + random.choice(checks2)\n",
    "        # if the last phrase was \"short,\" use truncated form\n",
    "        if len(history) > 0 and history[-1] == \"short\":\n",
    "            body += \": This is a Sound Check \" + checks + \"   \\n\" + \"   \\n\"\n",
    "# clean up output\n",
    "body = body.replace(\"  \", \" \")\n",
    "body = body.replace(\". :\", \":\") + body.upper() + \"   \\n\" \n",
    "# put everything together\n",
    "output += textwrap.fill(body, 60)+\",\\n\"  + \"This was a Sound Check\"+ \"\\n\" \n",
    "\n",
    "print(output)"
   ]
  }
 ],
 "metadata": {
  "kernelspec": {
   "display_name": "Python 3",
   "language": "python",
   "name": "python3"
  },
  "language_info": {
   "codemirror_mode": {
    "name": "ipython",
    "version": 3
   },
   "file_extension": ".py",
   "mimetype": "text/x-python",
   "name": "python",
   "nbconvert_exporter": "python",
   "pygments_lexer": "ipython3",
   "version": "3.7.1"
  }
 },
 "nbformat": 4,
 "nbformat_minor": 2
}
